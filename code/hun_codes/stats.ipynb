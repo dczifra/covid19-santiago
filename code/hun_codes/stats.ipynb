{
 "cells": [
  {
   "cell_type": "code",
   "execution_count": 1,
   "id": "6b3697e4",
   "metadata": {},
   "outputs": [],
   "source": [
    "import json\n",
    "import numpy as np\n",
    "import pandas as pd\n",
    "import matplotlib.pyplot as plt"
   ]
  },
  {
   "cell_type": "code",
   "execution_count": 2,
   "id": "4b1459e6",
   "metadata": {},
   "outputs": [],
   "source": [
    "sett_types = pd.read_csv(\"../../data/hun/HU_places_admin_pop_ZIP_latlon.csv\",\n",
    "           sep=',',\n",
    "           header=0)\n",
    "KSH = pd.read_csv(\"../../data/hun/KSHCommuting_c1ID_c1name_c2ID_c2name_comm_school_work_DIR.csv\",\n",
    "           sep=',',\n",
    "           header=0)"
   ]
  },
  {
   "cell_type": "code",
   "execution_count": 3,
   "id": "026acf84",
   "metadata": {},
   "outputs": [
    {
     "data": {
      "text/html": [
       "<div>\n",
       "<style scoped>\n",
       "    .dataframe tbody tr th:only-of-type {\n",
       "        vertical-align: middle;\n",
       "    }\n",
       "\n",
       "    .dataframe tbody tr th {\n",
       "        vertical-align: top;\n",
       "    }\n",
       "\n",
       "    .dataframe thead th {\n",
       "        text-align: right;\n",
       "    }\n",
       "</style>\n",
       "<table border=\"1\" class=\"dataframe\">\n",
       "  <thead>\n",
       "    <tr style=\"text-align: right;\">\n",
       "      <th></th>\n",
       "      <th>origID</th>\n",
       "      <th>origName</th>\n",
       "      <th>destID</th>\n",
       "      <th>destName</th>\n",
       "      <th>CommutersAll</th>\n",
       "      <th>CommutersSchool</th>\n",
       "      <th>CommutersWork</th>\n",
       "    </tr>\n",
       "  </thead>\n",
       "  <tbody>\n",
       "    <tr>\n",
       "      <th>0</th>\n",
       "      <td>1508</td>\n",
       "      <td>Ipolyszög</td>\n",
       "      <td>1508</td>\n",
       "      <td>Ipolyszög</td>\n",
       "      <td>40</td>\n",
       "      <td>0</td>\n",
       "      <td>40</td>\n",
       "    </tr>\n",
       "    <tr>\n",
       "      <th>1</th>\n",
       "      <td>1508</td>\n",
       "      <td>Ipolyszög</td>\n",
       "      <td>3115</td>\n",
       "      <td>Dunaújváros</td>\n",
       "      <td>2</td>\n",
       "      <td>0</td>\n",
       "      <td>2</td>\n",
       "    </tr>\n",
       "    <tr>\n",
       "      <th>2</th>\n",
       "      <td>1508</td>\n",
       "      <td>Ipolyszög</td>\n",
       "      <td>3179</td>\n",
       "      <td>Budapest 02. ker.</td>\n",
       "      <td>2</td>\n",
       "      <td>0</td>\n",
       "      <td>2</td>\n",
       "    </tr>\n",
       "    <tr>\n",
       "      <th>3</th>\n",
       "      <td>1508</td>\n",
       "      <td>Ipolyszög</td>\n",
       "      <td>3249</td>\n",
       "      <td>Õrhalom</td>\n",
       "      <td>2</td>\n",
       "      <td>0</td>\n",
       "      <td>2</td>\n",
       "    </tr>\n",
       "    <tr>\n",
       "      <th>4</th>\n",
       "      <td>1508</td>\n",
       "      <td>Ipolyszög</td>\n",
       "      <td>4507</td>\n",
       "      <td>Szendehely</td>\n",
       "      <td>4</td>\n",
       "      <td>0</td>\n",
       "      <td>4</td>\n",
       "    </tr>\n",
       "    <tr>\n",
       "      <th>...</th>\n",
       "      <td>...</td>\n",
       "      <td>...</td>\n",
       "      <td>...</td>\n",
       "      <td>...</td>\n",
       "      <td>...</td>\n",
       "      <td>...</td>\n",
       "      <td>...</td>\n",
       "    </tr>\n",
       "    <tr>\n",
       "      <th>114040</th>\n",
       "      <td>34412</td>\n",
       "      <td>Mosonudvar</td>\n",
       "      <td>28149</td>\n",
       "      <td>Mosonszolnok</td>\n",
       "      <td>19</td>\n",
       "      <td>0</td>\n",
       "      <td>19</td>\n",
       "    </tr>\n",
       "    <tr>\n",
       "      <th>114041</th>\n",
       "      <td>34412</td>\n",
       "      <td>Mosonudvar</td>\n",
       "      <td>29221</td>\n",
       "      <td>Jánossomorja</td>\n",
       "      <td>5</td>\n",
       "      <td>0</td>\n",
       "      <td>5</td>\n",
       "    </tr>\n",
       "    <tr>\n",
       "      <th>114042</th>\n",
       "      <td>34412</td>\n",
       "      <td>Mosonudvar</td>\n",
       "      <td>31839</td>\n",
       "      <td>Újrónafõ</td>\n",
       "      <td>2</td>\n",
       "      <td>0</td>\n",
       "      <td>2</td>\n",
       "    </tr>\n",
       "    <tr>\n",
       "      <th>114043</th>\n",
       "      <td>34412</td>\n",
       "      <td>Mosonudvar</td>\n",
       "      <td>34412</td>\n",
       "      <td>Mosonudvar</td>\n",
       "      <td>52</td>\n",
       "      <td>0</td>\n",
       "      <td>52</td>\n",
       "    </tr>\n",
       "    <tr>\n",
       "      <th>114044</th>\n",
       "      <td>34412</td>\n",
       "      <td>Mosonudvar</td>\n",
       "      <td>40401</td>\n",
       "      <td>Ausztria</td>\n",
       "      <td>6</td>\n",
       "      <td>0</td>\n",
       "      <td>6</td>\n",
       "    </tr>\n",
       "  </tbody>\n",
       "</table>\n",
       "<p>114045 rows × 7 columns</p>\n",
       "</div>"
      ],
      "text/plain": [
       "        origID    origName  destID           destName  CommutersAll  \\\n",
       "0         1508   Ipolyszög    1508          Ipolyszög            40   \n",
       "1         1508   Ipolyszög    3115        Dunaújváros             2   \n",
       "2         1508   Ipolyszög    3179  Budapest 02. ker.             2   \n",
       "3         1508   Ipolyszög    3249            Õrhalom             2   \n",
       "4         1508   Ipolyszög    4507         Szendehely             4   \n",
       "...        ...         ...     ...                ...           ...   \n",
       "114040   34412  Mosonudvar   28149       Mosonszolnok            19   \n",
       "114041   34412  Mosonudvar   29221       Jánossomorja             5   \n",
       "114042   34412  Mosonudvar   31839           Újrónafõ             2   \n",
       "114043   34412  Mosonudvar   34412         Mosonudvar            52   \n",
       "114044   34412  Mosonudvar   40401           Ausztria             6   \n",
       "\n",
       "        CommutersSchool  CommutersWork  \n",
       "0                     0             40  \n",
       "1                     0              2  \n",
       "2                     0              2  \n",
       "3                     0              2  \n",
       "4                     0              4  \n",
       "...                 ...            ...  \n",
       "114040                0             19  \n",
       "114041                0              5  \n",
       "114042                0              2  \n",
       "114043                0             52  \n",
       "114044                0              6  \n",
       "\n",
       "[114045 rows x 7 columns]"
      ]
     },
     "execution_count": 3,
     "metadata": {},
     "output_type": "execute_result"
    }
   ],
   "source": [
    "KSH"
   ]
  },
  {
   "cell_type": "code",
   "execution_count": 4,
   "id": "81760501",
   "metadata": {},
   "outputs": [
    {
     "data": {
      "text/html": [
       "<div>\n",
       "<style scoped>\n",
       "    .dataframe tbody tr th:only-of-type {\n",
       "        vertical-align: middle;\n",
       "    }\n",
       "\n",
       "    .dataframe tbody tr th {\n",
       "        vertical-align: top;\n",
       "    }\n",
       "\n",
       "    .dataframe thead th {\n",
       "        text-align: right;\n",
       "    }\n",
       "</style>\n",
       "<table border=\"1\" class=\"dataframe\">\n",
       "  <thead>\n",
       "    <tr style=\"text-align: right;\">\n",
       "      <th></th>\n",
       "      <th>place</th>\n",
       "      <th>KSH code</th>\n",
       "      <th>settlement type</th>\n",
       "      <th>admin county</th>\n",
       "      <th>admin municip</th>\n",
       "      <th>population</th>\n",
       "      <th>zip</th>\n",
       "      <th>latitude</th>\n",
       "      <th>longitude</th>\n",
       "    </tr>\n",
       "  </thead>\n",
       "  <tbody>\n",
       "    <tr>\n",
       "      <th>0</th>\n",
       "      <td>Aba</td>\n",
       "      <td>17376</td>\n",
       "      <td>nagyközség</td>\n",
       "      <td>Fejér</td>\n",
       "      <td>Aba</td>\n",
       "      <td>4619</td>\n",
       "      <td>8127</td>\n",
       "      <td>47.0291</td>\n",
       "      <td>18.5217</td>\n",
       "    </tr>\n",
       "    <tr>\n",
       "      <th>1</th>\n",
       "      <td>Abádszalók</td>\n",
       "      <td>12441</td>\n",
       "      <td>város</td>\n",
       "      <td>Jász-Nagykun-Szolnok</td>\n",
       "      <td>Tiszafüred</td>\n",
       "      <td>3922</td>\n",
       "      <td>5241</td>\n",
       "      <td>47.4667</td>\n",
       "      <td>20.6000</td>\n",
       "    </tr>\n",
       "    <tr>\n",
       "      <th>2</th>\n",
       "      <td>Abaliget</td>\n",
       "      <td>12548</td>\n",
       "      <td>község</td>\n",
       "      <td>Baranya</td>\n",
       "      <td>Pécs</td>\n",
       "      <td>586</td>\n",
       "      <td>7678</td>\n",
       "      <td>46.1426</td>\n",
       "      <td>18.1168</td>\n",
       "    </tr>\n",
       "    <tr>\n",
       "      <th>3</th>\n",
       "      <td>Abasár</td>\n",
       "      <td>24554</td>\n",
       "      <td>község</td>\n",
       "      <td>Heves</td>\n",
       "      <td>Gyöngyös</td>\n",
       "      <td>2498</td>\n",
       "      <td>3261</td>\n",
       "      <td>47.7970</td>\n",
       "      <td>20.0032</td>\n",
       "    </tr>\n",
       "    <tr>\n",
       "      <th>4</th>\n",
       "      <td>Abaújalpár</td>\n",
       "      <td>15662</td>\n",
       "      <td>község</td>\n",
       "      <td>Borsod-Abaúj-Zemplén</td>\n",
       "      <td>Encs</td>\n",
       "      <td>76</td>\n",
       "      <td>3882</td>\n",
       "      <td>48.3067</td>\n",
       "      <td>21.2332</td>\n",
       "    </tr>\n",
       "    <tr>\n",
       "      <th>...</th>\n",
       "      <td>...</td>\n",
       "      <td>...</td>\n",
       "      <td>...</td>\n",
       "      <td>...</td>\n",
       "      <td>...</td>\n",
       "      <td>...</td>\n",
       "      <td>...</td>\n",
       "      <td>...</td>\n",
       "      <td>...</td>\n",
       "    </tr>\n",
       "    <tr>\n",
       "      <th>3172</th>\n",
       "      <td>Zsennye</td>\n",
       "      <td>12292</td>\n",
       "      <td>község</td>\n",
       "      <td>Vas</td>\n",
       "      <td>Szombathely</td>\n",
       "      <td>100</td>\n",
       "      <td>9766</td>\n",
       "      <td>47.1130</td>\n",
       "      <td>16.8152</td>\n",
       "    </tr>\n",
       "    <tr>\n",
       "      <th>3173</th>\n",
       "      <td>Zsira</td>\n",
       "      <td>4622</td>\n",
       "      <td>község</td>\n",
       "      <td>Győr-Moson-Sopron</td>\n",
       "      <td>Sopron</td>\n",
       "      <td>782</td>\n",
       "      <td>9476</td>\n",
       "      <td>47.4576</td>\n",
       "      <td>16.6773</td>\n",
       "    </tr>\n",
       "    <tr>\n",
       "      <th>3174</th>\n",
       "      <td>Zsombó</td>\n",
       "      <td>17765</td>\n",
       "      <td>község</td>\n",
       "      <td>Csongrád</td>\n",
       "      <td>Szeged</td>\n",
       "      <td>3552</td>\n",
       "      <td>6792</td>\n",
       "      <td>46.3257</td>\n",
       "      <td>19.9746</td>\n",
       "    </tr>\n",
       "    <tr>\n",
       "      <th>3175</th>\n",
       "      <td>Zsujta</td>\n",
       "      <td>11022</td>\n",
       "      <td>község</td>\n",
       "      <td>Borsod-Abaúj-Zemplén</td>\n",
       "      <td>Gönc</td>\n",
       "      <td>164</td>\n",
       "      <td>3897</td>\n",
       "      <td>48.5000</td>\n",
       "      <td>21.2833</td>\n",
       "    </tr>\n",
       "    <tr>\n",
       "      <th>3176</th>\n",
       "      <td>Zsurk</td>\n",
       "      <td>13037</td>\n",
       "      <td>község</td>\n",
       "      <td>Szabolcs-Szatmár-Bereg</td>\n",
       "      <td>Záhony</td>\n",
       "      <td>704</td>\n",
       "      <td>4627</td>\n",
       "      <td>48.4118</td>\n",
       "      <td>22.2195</td>\n",
       "    </tr>\n",
       "  </tbody>\n",
       "</table>\n",
       "<p>3177 rows × 9 columns</p>\n",
       "</div>"
      ],
      "text/plain": [
       "           place  KSH code settlement type            admin county  \\\n",
       "0            Aba     17376      nagyközség                   Fejér   \n",
       "1     Abádszalók     12441           város    Jász-Nagykun-Szolnok   \n",
       "2       Abaliget     12548          község                 Baranya   \n",
       "3         Abasár     24554          község                   Heves   \n",
       "4     Abaújalpár     15662          község    Borsod-Abaúj-Zemplén   \n",
       "...          ...       ...             ...                     ...   \n",
       "3172     Zsennye     12292          község                     Vas   \n",
       "3173       Zsira      4622          község       Győr-Moson-Sopron   \n",
       "3174      Zsombó     17765          község                Csongrád   \n",
       "3175      Zsujta     11022          község    Borsod-Abaúj-Zemplén   \n",
       "3176       Zsurk     13037          község  Szabolcs-Szatmár-Bereg   \n",
       "\n",
       "     admin municip  population   zip  latitude  longitude  \n",
       "0              Aba        4619  8127   47.0291    18.5217  \n",
       "1       Tiszafüred        3922  5241   47.4667    20.6000  \n",
       "2             Pécs         586  7678   46.1426    18.1168  \n",
       "3         Gyöngyös        2498  3261   47.7970    20.0032  \n",
       "4             Encs          76  3882   48.3067    21.2332  \n",
       "...            ...         ...   ...       ...        ...  \n",
       "3172   Szombathely         100  9766   47.1130    16.8152  \n",
       "3173        Sopron         782  9476   47.4576    16.6773  \n",
       "3174        Szeged        3552  6792   46.3257    19.9746  \n",
       "3175          Gönc         164  3897   48.5000    21.2833  \n",
       "3176        Záhony         704  4627   48.4118    22.2195  \n",
       "\n",
       "[3177 rows x 9 columns]"
      ]
     },
     "execution_count": 4,
     "metadata": {},
     "output_type": "execute_result"
    }
   ],
   "source": [
    "sett_types"
   ]
  },
  {
   "cell_type": "code",
   "execution_count": 5,
   "id": "a7e6cf42",
   "metadata": {},
   "outputs": [
    {
     "name": "stdout",
     "output_type": "stream",
     "text": [
      "{'város', 'megyei jogú város', 'fővárosi kerület', 'főváros', 'község', 'megyeszékhely-megyei jogú város', 'nagyközség'}\n"
     ]
    },
    {
     "data": {
      "text/plain": [
       "settlement type\n",
       "község                             2706\n",
       "város                               304\n",
       "nagyközség                          120\n",
       "fővárosi kerület                     23\n",
       "megyeszékhely-megyei jogú város      18\n",
       "megyei jogú város                     5\n",
       "főváros                               1\n",
       "dtype: int64"
      ]
     },
     "execution_count": 5,
     "metadata": {},
     "output_type": "execute_result"
    }
   ],
   "source": [
    "len(set(KSH[\"origName\"]))\n",
    "print(set(sett_types[\"settlement type\"]))\n",
    "sett_types.groupby(\"settlement type\").size().sort_values(ascending=False)"
   ]
  },
  {
   "cell_type": "code",
   "execution_count": 6,
   "id": "748218f3",
   "metadata": {},
   "outputs": [
    {
     "data": {
      "text/html": [
       "<div>\n",
       "<style scoped>\n",
       "    .dataframe tbody tr th:only-of-type {\n",
       "        vertical-align: middle;\n",
       "    }\n",
       "\n",
       "    .dataframe tbody tr th {\n",
       "        vertical-align: top;\n",
       "    }\n",
       "\n",
       "    .dataframe thead th {\n",
       "        text-align: right;\n",
       "    }\n",
       "</style>\n",
       "<table border=\"1\" class=\"dataframe\">\n",
       "  <thead>\n",
       "    <tr style=\"text-align: right;\">\n",
       "      <th></th>\n",
       "      <th>place</th>\n",
       "      <th>KSH code</th>\n",
       "      <th>settlement type</th>\n",
       "      <th>admin county</th>\n",
       "      <th>admin municip</th>\n",
       "      <th>population</th>\n",
       "      <th>zip</th>\n",
       "      <th>latitude</th>\n",
       "      <th>longitude</th>\n",
       "    </tr>\n",
       "  </thead>\n",
       "  <tbody>\n",
       "    <tr>\n",
       "      <th>12</th>\n",
       "      <td>Abony</td>\n",
       "      <td>27872</td>\n",
       "      <td>város</td>\n",
       "      <td>Pest</td>\n",
       "      <td>Cegléd</td>\n",
       "      <td>14876</td>\n",
       "      <td>2740</td>\n",
       "      <td>47.1899</td>\n",
       "      <td>20.0048</td>\n",
       "    </tr>\n",
       "    <tr>\n",
       "      <th>14</th>\n",
       "      <td>Ács</td>\n",
       "      <td>4428</td>\n",
       "      <td>város</td>\n",
       "      <td>Komárom-Esztergom</td>\n",
       "      <td>Komárom</td>\n",
       "      <td>6965</td>\n",
       "      <td>2941</td>\n",
       "      <td>47.7123</td>\n",
       "      <td>18.0113</td>\n",
       "    </tr>\n",
       "    <tr>\n",
       "      <th>31</th>\n",
       "      <td>Ajka</td>\n",
       "      <td>6673</td>\n",
       "      <td>város</td>\n",
       "      <td>Veszprém</td>\n",
       "      <td>Ajka</td>\n",
       "      <td>29058</td>\n",
       "      <td>8400</td>\n",
       "      <td>47.1020</td>\n",
       "      <td>17.5589</td>\n",
       "    </tr>\n",
       "    <tr>\n",
       "      <th>37</th>\n",
       "      <td>Albertirsa</td>\n",
       "      <td>31653</td>\n",
       "      <td>város</td>\n",
       "      <td>Pest</td>\n",
       "      <td>Cegléd</td>\n",
       "      <td>12410</td>\n",
       "      <td>2730</td>\n",
       "      <td>47.2431</td>\n",
       "      <td>19.6169</td>\n",
       "    </tr>\n",
       "    <tr>\n",
       "      <th>40</th>\n",
       "      <td>Algyő</td>\n",
       "      <td>34245</td>\n",
       "      <td>nagyközség</td>\n",
       "      <td>Csongrád</td>\n",
       "      <td>Szeged</td>\n",
       "      <td>5251</td>\n",
       "      <td>6750</td>\n",
       "      <td>46.3347</td>\n",
       "      <td>20.2085</td>\n",
       "    </tr>\n",
       "    <tr>\n",
       "      <th>...</th>\n",
       "      <td>...</td>\n",
       "      <td>...</td>\n",
       "      <td>...</td>\n",
       "      <td>...</td>\n",
       "      <td>...</td>\n",
       "      <td>...</td>\n",
       "      <td>...</td>\n",
       "      <td>...</td>\n",
       "      <td>...</td>\n",
       "    </tr>\n",
       "    <tr>\n",
       "      <th>3061</th>\n",
       "      <td>Vésztő</td>\n",
       "      <td>29531</td>\n",
       "      <td>város</td>\n",
       "      <td>Békés</td>\n",
       "      <td>Szeghalom</td>\n",
       "      <td>6680</td>\n",
       "      <td>5530</td>\n",
       "      <td>46.9167</td>\n",
       "      <td>21.2667</td>\n",
       "    </tr>\n",
       "    <tr>\n",
       "      <th>3111</th>\n",
       "      <td>Zalaegerszeg</td>\n",
       "      <td>32054</td>\n",
       "      <td>megyeszékhely-megyei jogú város</td>\n",
       "      <td>Zala</td>\n",
       "      <td>Zalaegerszeg</td>\n",
       "      <td>61849</td>\n",
       "      <td>8900</td>\n",
       "      <td>46.8400</td>\n",
       "      <td>16.8439</td>\n",
       "    </tr>\n",
       "    <tr>\n",
       "      <th>3129</th>\n",
       "      <td>Zalaszentgrót</td>\n",
       "      <td>32522</td>\n",
       "      <td>város</td>\n",
       "      <td>Zala</td>\n",
       "      <td>Zalaszentgrót</td>\n",
       "      <td>6473</td>\n",
       "      <td>8785</td>\n",
       "      <td>46.9447</td>\n",
       "      <td>17.0793</td>\n",
       "    </tr>\n",
       "    <tr>\n",
       "      <th>3157</th>\n",
       "      <td>Zirc</td>\n",
       "      <td>26499</td>\n",
       "      <td>város</td>\n",
       "      <td>Veszprém</td>\n",
       "      <td>Zirc</td>\n",
       "      <td>7096</td>\n",
       "      <td>8420</td>\n",
       "      <td>47.2636</td>\n",
       "      <td>17.8737</td>\n",
       "    </tr>\n",
       "    <tr>\n",
       "      <th>3163</th>\n",
       "      <td>Zsámbék</td>\n",
       "      <td>25034</td>\n",
       "      <td>város</td>\n",
       "      <td>Pest</td>\n",
       "      <td>Pilisvörösvár</td>\n",
       "      <td>5480</td>\n",
       "      <td>2072</td>\n",
       "      <td>47.5481</td>\n",
       "      <td>18.7201</td>\n",
       "    </tr>\n",
       "  </tbody>\n",
       "</table>\n",
       "<p>295 rows × 9 columns</p>\n",
       "</div>"
      ],
      "text/plain": [
       "              place  KSH code                  settlement type  \\\n",
       "12            Abony     27872                            város   \n",
       "14              Ács      4428                            város   \n",
       "31             Ajka      6673                            város   \n",
       "37       Albertirsa     31653                            város   \n",
       "40            Algyő     34245                       nagyközség   \n",
       "...             ...       ...                              ...   \n",
       "3061         Vésztő     29531                            város   \n",
       "3111   Zalaegerszeg     32054  megyeszékhely-megyei jogú város   \n",
       "3129  Zalaszentgrót     32522                            város   \n",
       "3157           Zirc     26499                            város   \n",
       "3163        Zsámbék     25034                            város   \n",
       "\n",
       "           admin county  admin municip  population   zip  latitude  longitude  \n",
       "12                 Pest         Cegléd       14876  2740   47.1899    20.0048  \n",
       "14    Komárom-Esztergom        Komárom        6965  2941   47.7123    18.0113  \n",
       "31             Veszprém           Ajka       29058  8400   47.1020    17.5589  \n",
       "37                 Pest         Cegléd       12410  2730   47.2431    19.6169  \n",
       "40             Csongrád         Szeged        5251  6750   46.3347    20.2085  \n",
       "...                 ...            ...         ...   ...       ...        ...  \n",
       "3061              Békés      Szeghalom        6680  5530   46.9167    21.2667  \n",
       "3111               Zala   Zalaegerszeg       61849  8900   46.8400    16.8439  \n",
       "3129               Zala  Zalaszentgrót        6473  8785   46.9447    17.0793  \n",
       "3157           Veszprém           Zirc        7096  8420   47.2636    17.8737  \n",
       "3163               Pest  Pilisvörösvár        5480  2072   47.5481    18.7201  \n",
       "\n",
       "[295 rows x 9 columns]"
      ]
     },
     "execution_count": 6,
     "metadata": {},
     "output_type": "execute_result"
    }
   ],
   "source": [
    "sett_types[sett_types[\"population\"]>=5000]"
   ]
  },
  {
   "cell_type": "code",
   "execution_count": 7,
   "id": "122b64bc",
   "metadata": {},
   "outputs": [],
   "source": [
    "korfa_teltip0 = {\n",
    "    \"főváros|fővárosi kerület\": [210640, 81626, 246127, 313540, 213367, 225379, 216828, 221533, 1729040],\n",
    "    \"megyeszékhely-megyei jogú város\": [238608 , 116868 , 233585 , 287108 , 227042 , 252073 , 209260 , 197113 , 1761657],\n",
    "    \"megyei jogú város\": [37141, 15599, 32610, 44865, 35886, 39168, 32719, 29748, 267736],\n",
    "    \"város\": [477932, 195704, 364021, 491615, 422355, 466796, 373198, 353804, 3145425],\n",
    "    \"all_város\": [964321, 409797, 876343, 1137128, 898650, 983416, 832005, 802198, 6903858],\n",
    "    \"község|nagyközség\": [483338, 183737, 353193, 443785, 417543, 455266, 344957, 351951, 3033770],\n",
    "    \"all\": [1447659 , 593534 , 1229536 , 1580913 , 1316193 , 1438682 , 1176962 , 1154149 , 9937628],\n",
    "}\n",
    "\n",
    "korfa_teltip1 = {\n",
    "    \"főváros\": [210640, 81626, 246127, 313540, 213367, 225379, 216828, 221533, 1729040],\n",
    "    \"fővárosi kerület\": [210640, 81626, 246127, 313540, 213367, 225379, 216828, 221533, 1729040],\n",
    "    \"megyeszékhely-megyei jogú város\": [238608 , 116868 , 233585 , 287108 , 227042 , 252073 , 209260 , 197113 , 1761657],\n",
    "    \"megyei jogú város\": [37141, 15599, 32610, 44865, 35886, 39168, 32719, 29748, 267736],\n",
    "    \"város\": [477932, 195704, 364021, 491615, 422355, 466796, 373198, 353804, 3145425],\n",
    "    \"all_város\": [964321, 409797, 876343, 1137128, 898650, 983416, 832005, 802198, 6903858],\n",
    "    \"község\": [483338, 183737, 353193, 443785, 417543, 455266, 344957, 351951, 3033770],\n",
    "    \"nagyközség\": [483338, 183737, 353193, 443785, 417543, 455266, 344957, 351951, 3033770],\n",
    "    \"all\": [1447659 , 593534 , 1229536 , 1580913 , 1316193 , 1438682 , 1176962 , 1154149 , 9937628],\n",
    "}\n",
    "ages = [\"0–14\", \"15–19\", \"20–29\", \"30–39\", \"40–49\", \"50–59\", \"60–69\", \"70–\", \"all\"] "
   ]
  },
  {
   "cell_type": "code",
   "execution_count": 8,
   "id": "ecd02480",
   "metadata": {
    "scrolled": false
   },
   "outputs": [
    {
     "data": {
      "text/plain": [
       "<matplotlib.legend.Legend at 0x7f1f15d9faf0>"
      ]
     },
     "execution_count": 8,
     "metadata": {},
     "output_type": "execute_result"
    },
    {
     "data": {
      "image/png": "[encoded data removed]",
      "text/plain": [
       "<Figure size 864x720 with 1 Axes>"
      ]
     },
     "metadata": {
      "needs_background": "light"
     },
     "output_type": "display_data"
    }
   ],
   "source": [
    "fig,ax = plt.subplots(1,1,figsize=(12,10))\n",
    "x = np.array(range(8))\n",
    "for i, (teltip, arr) in enumerate(korfa_teltip0.items()):\n",
    "    plt.bar(x-(i-2)*0.1, arr[:-1]/np.sum(arr[:-1]), label=teltip, alpha=0.5, width=0.1)\n",
    "    \n",
    "ax.set_xticks(x)\n",
    "ax.set_xticklabels(ages[:-1], rotation=65)\n",
    "plt.legend()"
   ]
  },
  {
   "cell_type": "markdown",
   "id": "f4ae5119",
   "metadata": {},
   "source": [
    "# Create population.json"
   ]
  },
  {
   "cell_type": "code",
   "execution_count": 84,
   "id": "6164312f",
   "metadata": {},
   "outputs": [],
   "source": [
    "def get_age(row, korfa_teltip, I):\n",
    "    arr = np.array(korfa_teltip[row[\"settlement type\"]])\n",
    "    arr = arr[:-1]/np.sum(arr[:-1])\n",
    "    N = row[\"population\"]\n",
    "    \n",
    "    ages = [int(N*arr[0]/3), int(N*arr[0]/3), int(N*arr[0]/3)]\n",
    "    for ratio in arr[1:-1]:\n",
    "        ages += [int(N*ratio/2), int(N*ratio/2)]\n",
    "    ages += [int(N*ratio)]\n",
    "    ages = np.array(ages, dtype=int)\n",
    "    \n",
    "    Is = np.random.multinomial(I, ages/np.sum(ages))\n",
    "    \n",
    "    ages = [{\"N\": int(s), \"S\":int(s-inf), \"L\":0, \"I\":int(inf), \"R\":0} for s,inf in zip(ages, Is)]\n",
    "    return ages\n",
    "\n",
    "def create_population_dict(sett_types, population_th, num_I):\n",
    "    small_cities = sett_types[sett_types[\"population\"]>population_th]\n",
    "    Is = np.array(list(small_cities[\"population\"].array))\n",
    "    Is = np.random.multinomial(num_I, Is/np.sum(Is))\n",
    "    \n",
    "    place_id_dict = {}\n",
    "    population = {\"populations\":[]}\n",
    "    Sum = 0\n",
    "    for ind, (_, row) in enumerate(small_cities.iterrows()):\n",
    "        place_id_dict[row['place']] = ind\n",
    "        city = {\n",
    "            \"name\": str(ind),\n",
    "            #\"name\": row[\"place\"],\n",
    "            \"index\": ind,\n",
    "            \"N\": row[\"population\"],\n",
    "            \"r1\":0.75,\n",
    "            \"r2\":0.15,\n",
    "            \"age\": get_age(row, korfa_teltip1, Is[ind])\n",
    "        }\n",
    "        population[\"populations\"].append(city)\n",
    "        Sum+=Is[ind]\n",
    "        ind += 1\n",
    "    return population, set(small_cities['place']), place_id_dict"
   ]
  },
  {
   "cell_type": "code",
   "execution_count": 85,
   "id": "7bd66503",
   "metadata": {
    "scrolled": true
   },
   "outputs": [],
   "source": [
    "pops,cities,place_id_dict = create_population_dict(sett_types, population_th=10000, num_I =10000)\n",
    "with open(\"../input/hun/populations_KSH.json\", \"w\") as f:\n",
    "    f.write(json.dumps(pops))"
   ]
  },
  {
   "cell_type": "code",
   "execution_count": 86,
   "id": "7c0e9acf",
   "metadata": {
    "scrolled": false
   },
   "outputs": [
    {
     "name": "stdout",
     "output_type": "stream",
     "text": [
      "Number of cities: 168\n",
      "Number of age groups 16\n"
     ]
    },
    {
     "data": {
      "text/plain": [
       "{'name': '2',\n",
       " 'index': 2,\n",
       " 'N': 12410,\n",
       " 'r1': 0.75,\n",
       " 'r2': 0.15,\n",
       " 'age': [{'N': 628, 'S': 628, 'L': 0, 'I': 0, 'R': 0},\n",
       "  {'N': 628, 'S': 628, 'L': 0, 'I': 0, 'R': 0},\n",
       "  {'N': 628, 'S': 628, 'L': 0, 'I': 0, 'R': 0},\n",
       "  {'N': 386, 'S': 386, 'L': 0, 'I': 0, 'R': 0},\n",
       "  {'N': 386, 'S': 386, 'L': 0, 'I': 0, 'R': 0},\n",
       "  {'N': 718, 'S': 718, 'L': 0, 'I': 0, 'R': 0},\n",
       "  {'N': 718, 'S': 717, 'L': 0, 'I': 1, 'R': 0},\n",
       "  {'N': 969, 'S': 968, 'L': 0, 'I': 1, 'R': 0},\n",
       "  {'N': 969, 'S': 969, 'L': 0, 'I': 0, 'R': 0},\n",
       "  {'N': 833, 'S': 833, 'L': 0, 'I': 0, 'R': 0},\n",
       "  {'N': 833, 'S': 831, 'L': 0, 'I': 2, 'R': 0},\n",
       "  {'N': 920, 'S': 919, 'L': 0, 'I': 1, 'R': 0},\n",
       "  {'N': 920, 'S': 919, 'L': 0, 'I': 1, 'R': 0},\n",
       "  {'N': 736, 'S': 736, 'L': 0, 'I': 0, 'R': 0},\n",
       "  {'N': 736, 'S': 736, 'L': 0, 'I': 0, 'R': 0},\n",
       "  {'N': 1472, 'S': 1470, 'L': 0, 'I': 2, 'R': 0}]}"
      ]
     },
     "execution_count": 86,
     "metadata": {},
     "output_type": "execute_result"
    }
   ],
   "source": [
    "print(f\"Number of cities: {len(cities)}\")\n",
    "print(f'Number of age groups {len(pops[\"populations\"][1][\"age\"])}')\n",
    "N = len(cities)\n",
    "pops[\"populations\"][2]"
   ]
  },
  {
   "cell_type": "code",
   "execution_count": 89,
   "id": "8eaf2d81",
   "metadata": {},
   "outputs": [
    {
     "name": "stdout",
     "output_type": "stream",
     "text": [
      "10000\n"
     ]
    }
   ],
   "source": [
    "# Check the number of infected agents\n",
    "Sum = 0\n",
    "for i in range(len(cities)):\n",
    "    I = sum([age['I'] for age in pops[\"populations\"][i]['age']])\n",
    "    Sum+=I\n",
    "print(Sum)"
   ]
  },
  {
   "cell_type": "code",
   "execution_count": 90,
   "id": "41f12815",
   "metadata": {},
   "outputs": [],
   "source": [
    "pop_dict = {row['place']:row[\"population\"] for _,row in sett_types.iterrows()}"
   ]
  },
  {
   "cell_type": "markdown",
   "id": "96c811bc",
   "metadata": {},
   "source": [
    "# Create commuting.json"
   ]
  },
  {
   "cell_type": "code",
   "execution_count": 91,
   "id": "544d6858",
   "metadata": {},
   "outputs": [],
   "source": [
    "edges = {}\n",
    "mtx = np.zeros((N,N))\n",
    "for _,row in KSH.iterrows():\n",
    "    weight = row[\"CommutersAll\"]\n",
    "    orig,dest = row[\"origName\"], row[\"destName\"]\n",
    "    if((orig in cities) and (dest in cities)):\n",
    "        edges[(place_id_dict[orig], place_id_dict[dest])] = weight/pop_dict[orig]\n",
    "        mtx[place_id_dict[orig], place_id_dict[dest]] = weight/pop_dict[orig]"
   ]
  },
  {
   "cell_type": "code",
   "execution_count": 92,
   "id": "05134f0e",
   "metadata": {},
   "outputs": [
    {
     "name": "stdout",
     "output_type": "stream",
     "text": [
      "#of edges: 10502 [28224] ==> 37.209% density\n"
     ]
    }
   ],
   "source": [
    "print(f\"#of edges: {len(edges)} [{N**2}] ==> {100*len(edges)/N**2:.3f}% density\")"
   ]
  },
  {
   "cell_type": "code",
   "execution_count": 93,
   "id": "7752b585",
   "metadata": {},
   "outputs": [],
   "source": [
    "network = []\n",
    "for i in range(N):\n",
    "    for j in range(N):\n",
    "        if(i==j): continue\n",
    "        network.append({\"from\":i, \"to\":j, \"weight\":mtx[i,j]})\n",
    "\n",
    "commuting = {\n",
    "    \"N\":N,\n",
    "    \"network\":network\n",
    "}"
   ]
  },
  {
   "cell_type": "code",
   "execution_count": 94,
   "id": "6bd241ef",
   "metadata": {},
   "outputs": [
    {
     "data": {
      "text/plain": [
       "28056"
      ]
     },
     "execution_count": 94,
     "metadata": {},
     "output_type": "execute_result"
    }
   ],
   "source": [
    "len(network)"
   ]
  },
  {
   "cell_type": "code",
   "execution_count": 95,
   "id": "6b8cfe6a",
   "metadata": {},
   "outputs": [],
   "source": [
    "with open(\"../input/hun/commuting_KSH.json\", \"w\") as f:\n",
    "    f.write(json.dumps(commuting))"
   ]
  },
  {
   "cell_type": "code",
   "execution_count": null,
   "id": "0be8b12a",
   "metadata": {},
   "outputs": [],
   "source": []
  },
  {
   "cell_type": "markdown",
   "id": "ce082aec",
   "metadata": {},
   "source": [
    "# Create the config.json"
   ]
  },
  {
   "cell_type": "code",
   "execution_count": 98,
   "id": "3e0f19e6",
   "metadata": {},
   "outputs": [],
   "source": [
    "d = {\n",
    "  \"commuting_file\": \"commuting_KSH.json\",\n",
    "  \"populations_file\": \"populations_KSH.json\",\n",
    "  \"contacts_file_home\": \"contacts_home.json\",\n",
    "  \"contacts_file_other\": \"contacts_other.json\",\n",
    "  \"Npop\":f\"{len(cities)}\"}\n",
    "\n",
    "with open(\"../input/hun/config.json\", \"w\") as f:\n",
    "    f.write(json.dumps(d, indent=4))"
   ]
  },
  {
   "cell_type": "code",
   "execution_count": null,
   "id": "36c48648",
   "metadata": {},
   "outputs": [],
   "source": []
  },
  {
   "cell_type": "code",
   "execution_count": null,
   "id": "45eb1cfb",
   "metadata": {},
   "outputs": [],
   "source": []
  },
  {
   "cell_type": "code",
   "execution_count": null,
   "id": "5ecfa518",
   "metadata": {},
   "outputs": [],
   "source": []
  },
  {
   "cell_type": "markdown",
   "id": "7602af16",
   "metadata": {},
   "source": [
    "# Results"
   ]
  },
  {
   "cell_type": "code",
   "execution_count": 137,
   "id": "ec85b772",
   "metadata": {},
   "outputs": [],
   "source": [
    "import pandas as pd"
   ]
  },
  {
   "cell_type": "code",
   "execution_count": 138,
   "id": "a4aacffb",
   "metadata": {},
   "outputs": [
    {
     "data": {
      "text/html": [
       "<div>\n",
       "<style scoped>\n",
       "    .dataframe tbody tr th:only-of-type {\n",
       "        vertical-align: middle;\n",
       "    }\n",
       "\n",
       "    .dataframe tbody tr th {\n",
       "        vertical-align: top;\n",
       "    }\n",
       "\n",
       "    .dataframe thead th {\n",
       "        text-align: right;\n",
       "    }\n",
       "</style>\n",
       "<table border=\"1\" class=\"dataframe\">\n",
       "  <thead>\n",
       "    <tr style=\"text-align: right;\">\n",
       "      <th></th>\n",
       "      <th>index</th>\n",
       "      <th>date</th>\n",
       "      <th>I</th>\n",
       "      <th>avg</th>\n",
       "    </tr>\n",
       "  </thead>\n",
       "  <tbody>\n",
       "    <tr>\n",
       "      <th>0</th>\n",
       "      <td>181</td>\n",
       "      <td>2020-09-01</td>\n",
       "      <td>118.0</td>\n",
       "      <td>148,85714286</td>\n",
       "    </tr>\n",
       "    <tr>\n",
       "      <th>1</th>\n",
       "      <td>182</td>\n",
       "      <td>2020-09-02</td>\n",
       "      <td>365.0</td>\n",
       "      <td>190,57142857</td>\n",
       "    </tr>\n",
       "    <tr>\n",
       "      <th>2</th>\n",
       "      <td>183</td>\n",
       "      <td>2020-09-03</td>\n",
       "      <td>301.0</td>\n",
       "      <td>220,57142857</td>\n",
       "    </tr>\n",
       "    <tr>\n",
       "      <th>3</th>\n",
       "      <td>184</td>\n",
       "      <td>2020-09-04</td>\n",
       "      <td>459.0</td>\n",
       "      <td>267,28571429</td>\n",
       "    </tr>\n",
       "    <tr>\n",
       "      <th>4</th>\n",
       "      <td>185</td>\n",
       "      <td>2020-09-05</td>\n",
       "      <td>510.0</td>\n",
       "      <td>317,57142857</td>\n",
       "    </tr>\n",
       "    <tr>\n",
       "      <th>...</th>\n",
       "      <td>...</td>\n",
       "      <td>...</td>\n",
       "      <td>...</td>\n",
       "      <td>...</td>\n",
       "    </tr>\n",
       "    <tr>\n",
       "      <th>185</th>\n",
       "      <td>366</td>\n",
       "      <td>2021-03-05</td>\n",
       "      <td>6369.0</td>\n",
       "      <td>4 766,42857143</td>\n",
       "    </tr>\n",
       "    <tr>\n",
       "      <th>186</th>\n",
       "      <td>367</td>\n",
       "      <td>2021-03-06</td>\n",
       "      <td>7269.0</td>\n",
       "      <td>5 098,00000000</td>\n",
       "    </tr>\n",
       "    <tr>\n",
       "      <th>187</th>\n",
       "      <td>368</td>\n",
       "      <td>2021-03-07</td>\n",
       "      <td>6201.0</td>\n",
       "      <td>5 345,42857143</td>\n",
       "    </tr>\n",
       "    <tr>\n",
       "      <th>188</th>\n",
       "      <td>369</td>\n",
       "      <td>2021-03-08</td>\n",
       "      <td>2696.0</td>\n",
       "      <td>5 112,57142857</td>\n",
       "    </tr>\n",
       "    <tr>\n",
       "      <th>189</th>\n",
       "      <td>370</td>\n",
       "      <td>2021-03-09</td>\n",
       "      <td>6494.0</td>\n",
       "      <td>5 645,42857143</td>\n",
       "    </tr>\n",
       "  </tbody>\n",
       "</table>\n",
       "<p>190 rows × 4 columns</p>\n",
       "</div>"
      ],
      "text/plain": [
       "     index        date       I             avg\n",
       "0      181  2020-09-01   118.0    148,85714286\n",
       "1      182  2020-09-02   365.0    190,57142857\n",
       "2      183  2020-09-03   301.0    220,57142857\n",
       "3      184  2020-09-04   459.0    267,28571429\n",
       "4      185  2020-09-05   510.0    317,57142857\n",
       "..     ...         ...     ...             ...\n",
       "185    366  2021-03-05  6369.0  4 766,42857143\n",
       "186    367  2021-03-06  7269.0  5 098,00000000\n",
       "187    368  2021-03-07  6201.0  5 345,42857143\n",
       "188    369  2021-03-08  2696.0  5 112,57142857\n",
       "189    370  2021-03-09  6494.0  5 645,42857143\n",
       "\n",
       "[190 rows x 4 columns]"
      ]
     },
     "execution_count": 138,
     "metadata": {},
     "output_type": "execute_result"
    }
   ],
   "source": [
    "real_data = pd.read_csv(\"../../data/hun/hun_infected.csv\", sep=',')\n",
    "real_data=real_data.rename(columns={\n",
    "    \"Dátum\": \"date\",\n",
    "    \"Az új fertőzöttek számának napi alakulása Magyarországon\": \"I\",\n",
    "    \"Hétnapos mozgóátlag\":\"avg\"})[181:181+190].reset_index()\n",
    "real_data"
   ]
  },
  {
   "cell_type": "code",
   "execution_count": 12,
   "id": "0c76de08",
   "metadata": {},
   "outputs": [],
   "source": [
    "def read_df(filename):\n",
    "    df = pd.read_csv(filename, sep=',')\n",
    "    inf_cols = [c for c in df.columns if c[0]=='I']\n",
    "    Is = df.filter(inf_cols, axis=1)\n",
    "    #N = sum(pop_dict.values())\n",
    "    return Is\n",
    "\n",
    "def get_inf_curve(filename):\n",
    "    sim = read_df(filename)\n",
    "    return sim.sum(axis=1)"
   ]
  },
  {
   "cell_type": "code",
   "execution_count": 195,
   "id": "3b9a0bed",
   "metadata": {},
   "outputs": [],
   "source": [
    "sim0 = read_df(\"../output/results.txt\")\n",
    "sim1 = read_df(\"../output/sim/sim1.txt\")"
   ]
  },
  {
   "cell_type": "code",
   "execution_count": 199,
   "id": "005d1957",
   "metadata": {},
   "outputs": [
    {
     "data": {
      "text/plain": [
       "Text(0.5, 1.0, 'Simalation vs real data')"
      ]
     },
     "execution_count": 199,
     "metadata": {},
     "output_type": "execute_result"
    },
    {
     "data": {
      "image/png": "[encoded data removed]",
      "text/plain": [
       "<Figure size 864x720 with 1 Axes>"
      ]
     },
     "metadata": {
      "needs_background": "light"
     },
     "output_type": "display_data"
    }
   ],
   "source": [
    "plt.figure(figsize=(12, 10))\n",
    "plt.plot(sim0.sum(axis=1)*(0.015), label=\"Sim0\")\n",
    "plt.plot(sim1.sum(axis=1)*0.015, label=\"Sim1\")\n",
    "plt.plot(real_data[\"I\"], label=\"Real\")\n",
    "plt.legend()\n",
    "plt.title(\"Simalation vs real data\")"
   ]
  },
  {
   "cell_type": "code",
   "execution_count": 184,
   "id": "769cb281",
   "metadata": {},
   "outputs": [
    {
     "data": {
      "text/plain": [
       "26400"
      ]
     },
     "execution_count": 184,
     "metadata": {},
     "output_type": "execute_result"
    }
   ],
   "source": [
    "165*16*10"
   ]
  },
  {
   "cell_type": "code",
   "execution_count": null,
   "id": "21f6af95",
   "metadata": {},
   "outputs": [],
   "source": []
  },
  {
   "cell_type": "code",
   "execution_count": null,
   "id": "ceb99d7c",
   "metadata": {},
   "outputs": [],
   "source": []
  },
  {
   "cell_type": "markdown",
   "id": "5be165de",
   "metadata": {},
   "source": [
    "# All togeather"
   ]
  },
  {
   "cell_type": "code",
   "execution_count": 1,
   "id": "0d3e7c52",
   "metadata": {},
   "outputs": [],
   "source": [
    "base_args = {\n",
    "    \"--config\": \"../input/hun\",\n",
    "    \"--out\": \"../output/sim/temp.txt\",\n",
    "    \"--maxT\": \"2\"\n",
    "}\n",
    "\n",
    "global_args = {\n",
    "    \"procnum\": 4,\n",
    "}"
   ]
  },
  {
   "cell_type": "code",
   "execution_count": 13,
   "id": "8db179f4",
   "metadata": {},
   "outputs": [],
   "source": [
    "import os\n",
    "import copy\n",
    "import numpy as np\n",
    "import pandas as pd\n",
    "import multiprocessing\n",
    "import matplotlib.pyplot as plt\n",
    "from subprocess import Popen, STDOUT, PIPE\n",
    "\n",
    "def run(args, job_count, lock):\n",
    "    # Run\n",
    "    str_args = [str(item) for pair in args.items() for item in pair]\n",
    "    print(\" \".join([ \"../bin/main\"] + str_args))\n",
    "    p = Popen([ \"../bin/main\"] + str_args,\n",
    "          stdout=PIPE, stdin=PIPE, stderr=STDOUT, bufsize=1, universal_newlines=True)\n",
    "\n",
    "    out,err = p.communicate()\n",
    "    \n",
    "    # Alert master, if ready\n",
    "    with lock:\n",
    "        job_count[0]+=1\n",
    "        print('\\r {}/{}'.format(job_count[0], job_count[1]), end='', flush=True)\n",
    "\n",
    "    return 0\n",
    "\n",
    "def measure(meas_name, arg_name, arg_space):\n",
    "    # Init pool\n",
    "    pool = multiprocessing.Pool(processes=global_args[\"procnum\"])\n",
    "    manager = multiprocessing.Manager()\n",
    "    lock = manager.Lock()\n",
    "    job_count = manager.Array(\"i\", [0,len(arg_space)])\n",
    "    \n",
    "    os.makedirs(f\"../output/{meas_name}\", exist_ok=True)\n",
    "    \n",
    "    # Run async\n",
    "    sims = {}\n",
    "    for i,x in enumerate(arg_space):\n",
    "        x = np.round_(x, decimals=4)\n",
    "        args = copy.copy(base_args)\n",
    "        args[\"--out\"]=f\"../output/{meas_name}/{i}.txt\"\n",
    "        #args[arg_name]=f\"{x}\"\n",
    "        sims[(x,args[\"--out\"])] = pool.apply(run, args =(args, job_count, lock))\n",
    "    \n",
    "    # Collect async\n",
    "    for k,v in sims.items():\n",
    "        v.get()\n",
    "    pool.close()\n",
    "    pool.join()\n",
    "    \n",
    "    return sims.keys()\n",
    "\n",
    "def get_inf_curve(filename):\n",
    "    df = pd.read_csv(filename, sep=',')\n",
    "    inf_cols = [c for c in df.columns if c[0]=='I']\n",
    "    Is = df.filter(inf_cols, axis=1)\n",
    "    return Is.sum(axis=1)"
   ]
  },
  {
   "cell_type": "code",
   "execution_count": 14,
   "id": "5fbfa2e4",
   "metadata": {},
   "outputs": [
    {
     "name": "stdout",
     "output_type": "stream",
     "text": [
      "../bin/main --config ../input/hun --out ../output/R0/0.txt --maxT 2\n",
      " 1/4../bin/main --config ../input/hun --out ../output/R0/1.txt --maxT 2\n",
      " 2/4../bin/main --config ../input/hun --out ../output/R0/2.txt --maxT 2\n",
      " 3/4../bin/main --config ../input/hun --out ../output/R0/3.txt --maxT 2\n",
      " 4/4"
     ]
    },
    {
     "ename": "AttributeError",
     "evalue": "'int' object has no attribute 'get'",
     "output_type": "error",
     "traceback": [
      "\u001b[0;31m---------------------------------------------------------------------------\u001b[0m",
      "\u001b[0;31mAttributeError\u001b[0m                            Traceback (most recent call last)",
      "\u001b[0;32m/tmp/ipykernel_28900/2374557659.py\u001b[0m in \u001b[0;36m<module>\u001b[0;34m\u001b[0m\n\u001b[0;32m----> 1\u001b[0;31m \u001b[0msims\u001b[0m \u001b[0;34m=\u001b[0m \u001b[0mmeasure\u001b[0m\u001b[0;34m(\u001b[0m\u001b[0;34m\"R0\"\u001b[0m\u001b[0;34m,\u001b[0m \u001b[0;34m\"--R0\"\u001b[0m\u001b[0;34m,\u001b[0m \u001b[0mnp\u001b[0m\u001b[0;34m.\u001b[0m\u001b[0mlinspace\u001b[0m\u001b[0;34m(\u001b[0m\u001b[0;36m2.0\u001b[0m\u001b[0;34m,\u001b[0m \u001b[0;36m3.0\u001b[0m\u001b[0;34m,\u001b[0m \u001b[0;36m4\u001b[0m\u001b[0;34m)\u001b[0m\u001b[0;34m)\u001b[0m\u001b[0;34m\u001b[0m\u001b[0;34m\u001b[0m\u001b[0m\n\u001b[0m",
      "\u001b[0;32m/tmp/ipykernel_28900/1784673526.py\u001b[0m in \u001b[0;36mmeasure\u001b[0;34m(meas_name, arg_name, arg_space)\u001b[0m\n\u001b[1;32m     43\u001b[0m     \u001b[0;31m# Collect async\u001b[0m\u001b[0;34m\u001b[0m\u001b[0;34m\u001b[0m\u001b[0;34m\u001b[0m\u001b[0m\n\u001b[1;32m     44\u001b[0m     \u001b[0;32mfor\u001b[0m \u001b[0mk\u001b[0m\u001b[0;34m,\u001b[0m\u001b[0mv\u001b[0m \u001b[0;32min\u001b[0m \u001b[0msims\u001b[0m\u001b[0;34m.\u001b[0m\u001b[0mitems\u001b[0m\u001b[0;34m(\u001b[0m\u001b[0;34m)\u001b[0m\u001b[0;34m:\u001b[0m\u001b[0;34m\u001b[0m\u001b[0;34m\u001b[0m\u001b[0m\n\u001b[0;32m---> 45\u001b[0;31m         \u001b[0mv\u001b[0m\u001b[0;34m.\u001b[0m\u001b[0mget\u001b[0m\u001b[0;34m(\u001b[0m\u001b[0;34m)\u001b[0m\u001b[0;34m\u001b[0m\u001b[0;34m\u001b[0m\u001b[0m\n\u001b[0m\u001b[1;32m     46\u001b[0m     \u001b[0mpool\u001b[0m\u001b[0;34m.\u001b[0m\u001b[0mclose\u001b[0m\u001b[0;34m(\u001b[0m\u001b[0;34m)\u001b[0m\u001b[0;34m\u001b[0m\u001b[0;34m\u001b[0m\u001b[0m\n\u001b[1;32m     47\u001b[0m     \u001b[0mpool\u001b[0m\u001b[0;34m.\u001b[0m\u001b[0mjoin\u001b[0m\u001b[0;34m(\u001b[0m\u001b[0;34m)\u001b[0m\u001b[0;34m\u001b[0m\u001b[0;34m\u001b[0m\u001b[0m\n",
      "\u001b[0;31mAttributeError\u001b[0m: 'int' object has no attribute 'get'"
     ]
    }
   ],
   "source": [
    "sims = measure(\"R0\", \"--R0\", np.linspace(2.0, 3.0, 4))"
   ]
  },
  {
   "cell_type": "code",
   "execution_count": 15,
   "id": "732834b7",
   "metadata": {},
   "outputs": [
    {
     "name": "stdout",
     "output_type": "stream",
     "text": [
      "2.0 \n",
      " 0    6012\n",
      "1    3911\n",
      "dtype: int64\n",
      "2.3333 \n",
      " 0      6046\n",
      "1    311162\n",
      "dtype: int64\n",
      "2.6667 \n",
      " 0      6030\n",
      "1    312162\n",
      "dtype: int64\n",
      "3.0 \n",
      " 0    6042\n",
      "1    3979\n",
      "dtype: int64\n"
     ]
    },
    {
     "data": {
      "text/plain": [
       "<matplotlib.legend.Legend at 0x7f3a288c1070>"
      ]
     },
     "execution_count": 15,
     "metadata": {},
     "output_type": "execute_result"
    },
    {
     "data": {
      "image/png": "[encoded data removed]",
      "text/plain": [
       "<Figure size 432x288 with 1 Axes>"
      ]
     },
     "metadata": {
      "needs_background": "light"
     },
     "output_type": "display_data"
    }
   ],
   "source": [
    "for val,file in sims:\n",
    "    print(val,'\\n', get_inf_curve(file))\n",
    "    plt.plot(get_inf_curve(file), label=f\"R0={val}\")\n",
    "plt.legend()"
   ]
  },
  {
   "cell_type": "code",
   "execution_count": null,
   "id": "bbd0fad0",
   "metadata": {},
   "outputs": [],
   "source": [
    "get_inf_curve(\"../output/sim/temp2.txt\")"
   ]
  },
  {
   "cell_type": "code",
   "execution_count": null,
   "id": "b5c6475d",
   "metadata": {},
   "outputs": [],
   "source": []
  },
  {
   "cell_type": "code",
   "execution_count": null,
   "id": "19a35a72",
   "metadata": {},
   "outputs": [],
   "source": []
  },
  {
   "cell_type": "code",
   "execution_count": null,
   "id": "ac8f8056",
   "metadata": {},
   "outputs": [],
   "source": []
  }
 ],
 "metadata": {
  "kernelspec": {
   "display_name": "Python 3 (ipykernel)",
   "language": "python",
   "name": "python3"
  },
  "language_info": {
   "codemirror_mode": {
    "name": "ipython",
    "version": 3
   },
   "file_extension": ".py",
   "mimetype": "text/x-python",
   "name": "python",
   "nbconvert_exporter": "python",
   "pygments_lexer": "ipython3",
   "version": "3.8.10"
  }
 },
 "nbformat": 4,
 "nbformat_minor": 5
}
